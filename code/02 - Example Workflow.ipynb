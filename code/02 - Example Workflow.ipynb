{
 "cells": [
  {
   "cell_type": "code",
   "execution_count": 1,
   "metadata": {},
   "outputs": [
    {
     "name": "stdout",
     "output_type": "stream",
     "text": [
      "Using matplotlib backend: MacOSX\n",
      "Populating the interactive namespace from numpy and matplotlib\n"
     ]
    }
   ],
   "source": [
    "%pylab\n",
    "%matplotlib inline\n",
    "plt.rcParams.update({'figure.max_open_warning': 0})"
   ]
  },
  {
   "cell_type": "code",
   "execution_count": 2,
   "metadata": {},
   "outputs": [],
   "source": [
    "import pandas as pd\n",
    "import os\n",
    "import sqlalchemy as sql #create_engine\n",
    "import photutils"
   ]
  },
  {
   "cell_type": "code",
   "execution_count": 3,
   "metadata": {},
   "outputs": [
    {
     "name": "stderr",
     "output_type": "stream",
     "text": [
      "/Users/cm/github/gfcat/code/gPhoton/FileUtils.py:37: SyntaxWarning: \"is\" with a literal. Did you mean \"==\"?\n",
      "  url = urls[band] if ftype is 'raw6' else urls['scst']\n"
     ]
    }
   ],
   "source": [
    "from gPhoton import PhotonPipe\n",
    "from gPhoton.MCUtils import angularSeparation, print_inline"
   ]
  },
  {
   "cell_type": "code",
   "execution_count": 4,
   "metadata": {},
   "outputs": [
    {
     "name": "stderr",
     "output_type": "stream",
     "text": [
      "/Users/cm/github/gfcat/code/gfcat_utils.py:396: SyntaxWarning: \"is\" with a literal. Did you mean \"==\"?\n",
      "  data_directory=data_directory, eclipse=eclipse, b=\"n\" if band is \"NUV\" else \"f\"\n",
      "/Users/cm/github/gfcat/code/gfcat_utils.py:548: SyntaxWarning: \"is\" with a literal. Did you mean \"==\"?\n",
      "  data_directory=data_directory, eclipse=eclipse, b=\"n\" if band is \"NUV\" else \"f\"\n",
      "/Users/cm/github/gfcat/code/gfcat_utils.py:642: SyntaxWarning: \"is\" with a literal. Did you mean \"==\"?\n",
      "  data_directory=data_directory, eclipse=eclipse, b=\"n\" if band is \"NUV\" else \"f\"\n",
      "/Users/cm/github/gfcat/code/gfcat_utils.py:770: SyntaxWarning: \"is\" with a literal. Did you mean \"==\"?\n",
      "  data_directory=data_directory, eclipse=eclipse, b=\"n\" if band is \"NUV\" else \"f\"\n",
      "/Users/cm/github/gfcat/code/gfcat_utils.py:799: SyntaxWarning: \"is\" with a literal. Did you mean \"==\"?\n",
      "  qadir + \"/\" + \"{n}_{b}d.csv\".format(n=n, b=\"n\" if band is \"NUV\" else \"f\")\n",
      "/Users/cm/github/gfcat/code/gfcat_utils.py:830: SyntaxWarning: \"is\" with a literal. Did you mean \"==\"?\n",
      "  e=eclipse, b=\"n\" if band is \"NUV\" else \"f\"\n",
      "/Users/cm/github/gfcat/code/gfcat_utils.py:835: SyntaxWarning: \"is\" with a literal. Did you mean \"==\"?\n",
      "  e=eclipse, b=\"n\" if band is \"NUV\" else \"f\"\n"
     ]
    }
   ],
   "source": [
    "import gfcat_utils as gfu"
   ]
  },
  {
   "cell_type": "markdown",
   "metadata": {},
   "source": [
    "#### Query observation data for GJ65."
   ]
  },
  {
   "cell_type": "code",
   "execution_count": 5,
   "metadata": {},
   "outputs": [
    {
     "name": "stdout",
     "output_type": "stream",
     "text": [
      "CPU times: user 5.94 ms, sys: 1.5 ms, total: 7.44 ms\n",
      "Wall time: 6.74 ms\n",
      "There are 9 UV Ceti observations.\n",
      "We will use the first one: e13656\n"
     ]
    }
   ],
   "source": [
    "def query(query,catdbfile='catalog.db'):\n",
    "    engine = sql.create_engine(f'sqlite:///{catdbfile}', echo=False)\n",
    "    out = engine.execute(query).fetchall()\n",
    "    engine.dispose()\n",
    "    return out\n",
    "\n",
    "def conesearch(skypos,match_radius=0.005,catdbfile='catalog.db'):\n",
    "    out = np.array(query(f\"SELECT eclipse, id, ra, dec, xcenter, ycenter FROM gfcat WHERE ra >= {skypos[0]-match_radius} AND ra <={skypos[0]+match_radius} AND dec>= {skypos[1]-match_radius} AND dec<={skypos[1]+match_radius}\"))\n",
    "    dist_ix = np.where(angularSeparation(skypos[0],skypos[1],\n",
    "                                         out[:,2],out[:,3])<=match_radius)\n",
    "    return pd.DataFrame({'eclipse':np.array(out[:,0][dist_ix],dtype='int16'),\n",
    "                         'id':np.array(out[:,1][dist_ix],dtype='int16'),\n",
    "                         'ra':out[:,2][dist_ix],\n",
    "                         'dec':out[:,3][dist_ix],\n",
    "                         'xcenter':out[:,4][dist_ix],\n",
    "                         'ycenter':out[:,5][dist_ix]})\n",
    "\n",
    "%time uvceti = conesearch((24.76279, -17.94948)) # UV Ceti\n",
    "print(f'There are {len(uvceti)} UV Ceti observations.')\n",
    "print(f'We will use the first one: e{(eclipse:=int(uvceti.iloc[0].eclipse))}')"
   ]
  },
  {
   "cell_type": "code",
   "execution_count": 6,
   "metadata": {},
   "outputs": [
    {
     "name": "stdout",
     "output_type": "stream",
     "text": [
      "CPU times: user 3.54 ms, sys: 1.22 ms, total: 4.76 ms\n",
      "Wall time: 3.74 ms\n"
     ]
    },
    {
     "data": {
      "text/html": [
       "<div>\n",
       "<style scoped>\n",
       "    .dataframe tbody tr th:only-of-type {\n",
       "        vertical-align: middle;\n",
       "    }\n",
       "\n",
       "    .dataframe tbody tr th {\n",
       "        vertical-align: top;\n",
       "    }\n",
       "\n",
       "    .dataframe thead th {\n",
       "        text-align: right;\n",
       "    }\n",
       "</style>\n",
       "<table border=\"1\" class=\"dataframe\">\n",
       "  <thead>\n",
       "    <tr style=\"text-align: right;\">\n",
       "      <th></th>\n",
       "      <th>eclipse</th>\n",
       "      <th>id</th>\n",
       "      <th>ra</th>\n",
       "      <th>dec</th>\n",
       "      <th>xcenter</th>\n",
       "      <th>ycenter</th>\n",
       "    </tr>\n",
       "  </thead>\n",
       "  <tbody>\n",
       "    <tr>\n",
       "      <th>0</th>\n",
       "      <td>23417</td>\n",
       "      <td>8993</td>\n",
       "      <td>10.678468</td>\n",
       "      <td>41.269385</td>\n",
       "      <td>1558.698742</td>\n",
       "      <td>1551.109416</td>\n",
       "    </tr>\n",
       "    <tr>\n",
       "      <th>1</th>\n",
       "      <td>29296</td>\n",
       "      <td>5968</td>\n",
       "      <td>10.678785</td>\n",
       "      <td>41.273504</td>\n",
       "      <td>1598.078247</td>\n",
       "      <td>1541.928888</td>\n",
       "    </tr>\n",
       "    <tr>\n",
       "      <th>2</th>\n",
       "      <td>7559</td>\n",
       "      <td>10299</td>\n",
       "      <td>10.678801</td>\n",
       "      <td>41.269801</td>\n",
       "      <td>708.092431</td>\n",
       "      <td>2633.995322</td>\n",
       "    </tr>\n",
       "    <tr>\n",
       "      <th>3</th>\n",
       "      <td>1903</td>\n",
       "      <td>9100</td>\n",
       "      <td>10.679172</td>\n",
       "      <td>41.269568</td>\n",
       "      <td>1590.081797</td>\n",
       "      <td>1673.041873</td>\n",
       "    </tr>\n",
       "    <tr>\n",
       "      <th>4</th>\n",
       "      <td>28468</td>\n",
       "      <td>3197</td>\n",
       "      <td>10.679757</td>\n",
       "      <td>41.271121</td>\n",
       "      <td>2716.031236</td>\n",
       "      <td>1410.469326</td>\n",
       "    </tr>\n",
       "    <tr>\n",
       "      <th>5</th>\n",
       "      <td>29296</td>\n",
       "      <td>5913</td>\n",
       "      <td>10.680282</td>\n",
       "      <td>41.269870</td>\n",
       "      <td>1595.376353</td>\n",
       "      <td>1533.207508</td>\n",
       "    </tr>\n",
       "    <tr>\n",
       "      <th>6</th>\n",
       "      <td>23418</td>\n",
       "      <td>8279</td>\n",
       "      <td>10.680677</td>\n",
       "      <td>41.270491</td>\n",
       "      <td>1590.872392</td>\n",
       "      <td>1544.013549</td>\n",
       "    </tr>\n",
       "    <tr>\n",
       "      <th>7</th>\n",
       "      <td>29306</td>\n",
       "      <td>7386</td>\n",
       "      <td>10.680759</td>\n",
       "      <td>41.270975</td>\n",
       "      <td>1553.904299</td>\n",
       "      <td>1612.574083</td>\n",
       "    </tr>\n",
       "    <tr>\n",
       "      <th>8</th>\n",
       "      <td>29311</td>\n",
       "      <td>2841</td>\n",
       "      <td>10.681495</td>\n",
       "      <td>41.270751</td>\n",
       "      <td>2631.774957</td>\n",
       "      <td>1323.487448</td>\n",
       "    </tr>\n",
       "    <tr>\n",
       "      <th>9</th>\n",
       "      <td>23418</td>\n",
       "      <td>8197</td>\n",
       "      <td>10.681540</td>\n",
       "      <td>41.267237</td>\n",
       "      <td>1589.316130</td>\n",
       "      <td>1536.203502</td>\n",
       "    </tr>\n",
       "    <tr>\n",
       "      <th>10</th>\n",
       "      <td>7559</td>\n",
       "      <td>10231</td>\n",
       "      <td>10.682691</td>\n",
       "      <td>41.265176</td>\n",
       "      <td>701.012951</td>\n",
       "      <td>2622.934847</td>\n",
       "    </tr>\n",
       "    <tr>\n",
       "      <th>11</th>\n",
       "      <td>29311</td>\n",
       "      <td>2880</td>\n",
       "      <td>10.682771</td>\n",
       "      <td>41.273343</td>\n",
       "      <td>2629.431605</td>\n",
       "      <td>1329.693644</td>\n",
       "    </tr>\n",
       "    <tr>\n",
       "      <th>12</th>\n",
       "      <td>28458</td>\n",
       "      <td>8445</td>\n",
       "      <td>10.684415</td>\n",
       "      <td>41.273595</td>\n",
       "      <td>1554.147517</td>\n",
       "      <td>1587.985364</td>\n",
       "    </tr>\n",
       "    <tr>\n",
       "      <th>13</th>\n",
       "      <td>28468</td>\n",
       "      <td>3143</td>\n",
       "      <td>10.684920</td>\n",
       "      <td>41.268621</td>\n",
       "      <td>2706.759289</td>\n",
       "      <td>1404.402562</td>\n",
       "    </tr>\n",
       "    <tr>\n",
       "      <th>14</th>\n",
       "      <td>29311</td>\n",
       "      <td>2793</td>\n",
       "      <td>10.685104</td>\n",
       "      <td>41.268589</td>\n",
       "      <td>2625.298198</td>\n",
       "      <td>1318.255493</td>\n",
       "    </tr>\n",
       "    <tr>\n",
       "      <th>15</th>\n",
       "      <td>29306</td>\n",
       "      <td>7330</td>\n",
       "      <td>10.685167</td>\n",
       "      <td>41.268808</td>\n",
       "      <td>1545.952031</td>\n",
       "      <td>1607.374495</td>\n",
       "    </tr>\n",
       "    <tr>\n",
       "      <th>16</th>\n",
       "      <td>7558</td>\n",
       "      <td>10242</td>\n",
       "      <td>10.685182</td>\n",
       "      <td>41.268516</td>\n",
       "      <td>670.443718</td>\n",
       "      <td>2675.392586</td>\n",
       "    </tr>\n",
       "    <tr>\n",
       "      <th>17</th>\n",
       "      <td>28725</td>\n",
       "      <td>5921</td>\n",
       "      <td>10.685203</td>\n",
       "      <td>41.268623</td>\n",
       "      <td>1652.332704</td>\n",
       "      <td>1642.708137</td>\n",
       "    </tr>\n",
       "    <tr>\n",
       "      <th>18</th>\n",
       "      <td>23418</td>\n",
       "      <td>8235</td>\n",
       "      <td>10.685215</td>\n",
       "      <td>41.268573</td>\n",
       "      <td>1582.685816</td>\n",
       "      <td>1539.412342</td>\n",
       "    </tr>\n",
       "    <tr>\n",
       "      <th>19</th>\n",
       "      <td>7559</td>\n",
       "      <td>10274</td>\n",
       "      <td>10.685240</td>\n",
       "      <td>41.268435</td>\n",
       "      <td>696.457961</td>\n",
       "      <td>2630.785035</td>\n",
       "    </tr>\n",
       "    <tr>\n",
       "      <th>20</th>\n",
       "      <td>23417</td>\n",
       "      <td>8976</td>\n",
       "      <td>10.685329</td>\n",
       "      <td>41.268661</td>\n",
       "      <td>1546.320773</td>\n",
       "      <td>1549.375897</td>\n",
       "    </tr>\n",
       "    <tr>\n",
       "      <th>21</th>\n",
       "      <td>28458</td>\n",
       "      <td>8320</td>\n",
       "      <td>10.685336</td>\n",
       "      <td>41.268624</td>\n",
       "      <td>1552.483573</td>\n",
       "      <td>1576.054162</td>\n",
       "    </tr>\n",
       "    <tr>\n",
       "      <th>22</th>\n",
       "      <td>29296</td>\n",
       "      <td>5886</td>\n",
       "      <td>10.685339</td>\n",
       "      <td>41.268682</td>\n",
       "      <td>1586.253893</td>\n",
       "      <td>1530.358046</td>\n",
       "    </tr>\n",
       "    <tr>\n",
       "      <th>23</th>\n",
       "      <td>1903</td>\n",
       "      <td>9085</td>\n",
       "      <td>10.685438</td>\n",
       "      <td>41.268472</td>\n",
       "      <td>1578.778895</td>\n",
       "      <td>1670.414379</td>\n",
       "    </tr>\n",
       "    <tr>\n",
       "      <th>24</th>\n",
       "      <td>23417</td>\n",
       "      <td>9081</td>\n",
       "      <td>10.687076</td>\n",
       "      <td>41.272513</td>\n",
       "      <td>1543.172654</td>\n",
       "      <td>1558.621458</td>\n",
       "    </tr>\n",
       "    <tr>\n",
       "      <th>25</th>\n",
       "      <td>28725</td>\n",
       "      <td>5868</td>\n",
       "      <td>10.687136</td>\n",
       "      <td>41.266659</td>\n",
       "      <td>1648.848698</td>\n",
       "      <td>1637.993377</td>\n",
       "    </tr>\n",
       "    <tr>\n",
       "      <th>26</th>\n",
       "      <td>29296</td>\n",
       "      <td>5967</td>\n",
       "      <td>10.687185</td>\n",
       "      <td>41.273487</td>\n",
       "      <td>1582.925579</td>\n",
       "      <td>1541.889696</td>\n",
       "    </tr>\n",
       "    <tr>\n",
       "      <th>27</th>\n",
       "      <td>23418</td>\n",
       "      <td>8345</td>\n",
       "      <td>10.687376</td>\n",
       "      <td>41.272654</td>\n",
       "      <td>1578.788644</td>\n",
       "      <td>1549.207205</td>\n",
       "    </tr>\n",
       "    <tr>\n",
       "      <th>28</th>\n",
       "      <td>1903</td>\n",
       "      <td>9207</td>\n",
       "      <td>10.687410</td>\n",
       "      <td>41.273451</td>\n",
       "      <td>1575.222996</td>\n",
       "      <td>1682.362826</td>\n",
       "    </tr>\n",
       "  </tbody>\n",
       "</table>\n",
       "</div>"
      ],
      "text/plain": [
       "    eclipse     id         ra        dec      xcenter      ycenter\n",
       "0     23417   8993  10.678468  41.269385  1558.698742  1551.109416\n",
       "1     29296   5968  10.678785  41.273504  1598.078247  1541.928888\n",
       "2      7559  10299  10.678801  41.269801   708.092431  2633.995322\n",
       "3      1903   9100  10.679172  41.269568  1590.081797  1673.041873\n",
       "4     28468   3197  10.679757  41.271121  2716.031236  1410.469326\n",
       "5     29296   5913  10.680282  41.269870  1595.376353  1533.207508\n",
       "6     23418   8279  10.680677  41.270491  1590.872392  1544.013549\n",
       "7     29306   7386  10.680759  41.270975  1553.904299  1612.574083\n",
       "8     29311   2841  10.681495  41.270751  2631.774957  1323.487448\n",
       "9     23418   8197  10.681540  41.267237  1589.316130  1536.203502\n",
       "10     7559  10231  10.682691  41.265176   701.012951  2622.934847\n",
       "11    29311   2880  10.682771  41.273343  2629.431605  1329.693644\n",
       "12    28458   8445  10.684415  41.273595  1554.147517  1587.985364\n",
       "13    28468   3143  10.684920  41.268621  2706.759289  1404.402562\n",
       "14    29311   2793  10.685104  41.268589  2625.298198  1318.255493\n",
       "15    29306   7330  10.685167  41.268808  1545.952031  1607.374495\n",
       "16     7558  10242  10.685182  41.268516   670.443718  2675.392586\n",
       "17    28725   5921  10.685203  41.268623  1652.332704  1642.708137\n",
       "18    23418   8235  10.685215  41.268573  1582.685816  1539.412342\n",
       "19     7559  10274  10.685240  41.268435   696.457961  2630.785035\n",
       "20    23417   8976  10.685329  41.268661  1546.320773  1549.375897\n",
       "21    28458   8320  10.685336  41.268624  1552.483573  1576.054162\n",
       "22    29296   5886  10.685339  41.268682  1586.253893  1530.358046\n",
       "23     1903   9085  10.685438  41.268472  1578.778895  1670.414379\n",
       "24    23417   9081  10.687076  41.272513  1543.172654  1558.621458\n",
       "25    28725   5868  10.687136  41.266659  1648.848698  1637.993377\n",
       "26    29296   5967  10.687185  41.273487  1582.925579  1541.889696\n",
       "27    23418   8345  10.687376  41.272654  1578.788644  1549.207205\n",
       "28     1903   9207  10.687410  41.273451  1575.222996  1682.362826"
      ]
     },
     "execution_count": 6,
     "metadata": {},
     "output_type": "execute_result"
    }
   ],
   "source": [
    "%time m31 = conesearch((10.683,41.27)) # M31\n",
    "m31"
   ]
  },
  {
   "cell_type": "code",
   "execution_count": 7,
   "metadata": {},
   "outputs": [],
   "source": [
    "data_directory='data' # Relative path to the local disk location that data should be written\n",
    "band = 'NUV'"
   ]
  },
  {
   "cell_type": "markdown",
   "metadata": {},
   "source": [
    "#### Download the raw data from MAST"
   ]
  },
  {
   "cell_type": "code",
   "execution_count": null,
   "metadata": {},
   "outputs": [
    {
     "name": "stdout",
     "output_type": "stream",
     "text": [
      "Creating data/e13656\n",
      "                                                            \r",
      "Querying http://galex.stsci.edu/gPhoton/RAW6/e13600_13699/13656/e13656-nd-raw6.fits.gz\r"
     ]
    }
   ],
   "source": [
    "raw6file = gfu.download_raw6(eclipse,band,data_directory=data_directory)"
   ]
  },
  {
   "cell_type": "markdown",
   "metadata": {},
   "source": [
    "#### Calibrate the data"
   ]
  },
  {
   "cell_type": "code",
   "execution_count": null,
   "metadata": {},
   "outputs": [],
   "source": [
    "photonfile = '{d}/e{e}/e{e}-{b}d.h5'.format(\n",
    "        d=data_directory, e=eclipse, b='n' if band is 'NUV' else 'f') # output filename\n",
    "if not os.path.exists(photonfile):\n",
    "    PhotonPipe.photonpipe(raw6file.split('.')[0][:-5],band,raw6file=raw6file,verbose=2)"
   ]
  },
  {
   "cell_type": "code",
   "execution_count": null,
   "metadata": {},
   "outputs": [],
   "source": [
    "events = gfu.calibrate_photons(photonfile,band)\n",
    "xcalfilename = photonfile.replace('.h5','-xcal.h5')\n",
    "if len(events):\n",
    "    print('Writing {xcalfilename}'.format(xcalfilename=xcalfilename))\n",
    "    with pd.HDFStore(xcalfilename) as store:\n",
    "        store.append('events',events)\n",
    "else:\n",
    "    raise('There is no valid data in this visit and everything after will fail.')"
   ]
  },
  {
   "cell_type": "markdown",
   "metadata": {},
   "source": [
    "#### Create full-depth images and 120s movies"
   ]
  },
  {
   "cell_type": "code",
   "execution_count": null,
   "metadata": {},
   "outputs": [],
   "source": [
    "gfu.make_images(eclipse,band,data_directory=data_directory)"
   ]
  },
  {
   "cell_type": "code",
   "execution_count": null,
   "metadata": {},
   "outputs": [],
   "source": [
    "cntfilename = photonfile.replace(\".h5\", \"-cnt.fits.gz\")\n",
    "moviefilename = photonfile.replace(\".h5\", \"-mov.fits\") # Not used here\n",
    "cntmap, flagmap, edgemap, wcs, tranges, exptimes = gfu.read_image(cntfilename)\n",
    "plt.figure(figsize=(15, 15))\n",
    "plt.imshow(np.zeros(np.shape(cntmap)),cmap=\"Greys_r\")\n",
    "plt.imshow(np.log10(cntmap), cmap=\"Greys\", origin=\"lower\")\n",
    "plt.imshow(np.log10(edgemap), origin=\"lower\", cmap=\"cool\") # \"edge\" events are blueish\n",
    "plt.imshow(np.log10(flagmap), origin=\"lower\", cmap=\"Wistia\") # \"hotspot\" events are yellowish\n",
    "plt.xticks([])\n",
    "plt.yticks([])\n",
    "plt.tight_layout()"
   ]
  },
  {
   "cell_type": "markdown",
   "metadata": {},
   "source": [
    "#### Generate an image stamp of the target source"
   ]
  },
  {
   "cell_type": "code",
   "execution_count": null,
   "metadata": {},
   "outputs": [],
   "source": [
    "sz = 100 # half height / width of stamp in pixels\n",
    "x,y = int(np.round(uvceti.iloc[0].xcenter)),int(np.round(uvceti.iloc[0].ycenter))\n",
    "plt.figure(figsize=(20, 20))\n",
    "plt.imshow(np.log10(cntmap[y - sz : y + sz, x - sz : x + sz]),origin='lower',cmap='Greys_r')\n",
    "plt.imshow(np.log10(edgemap[y - sz : y + sz, x - sz : x + sz]),origin='lower',cmap='cool')\n",
    "plt.imshow(np.log10(flagmap[y - sz : y + sz, x - sz : x + sz]),origin='lower',cmap='Wistia')\n",
    "# Now overplot the aperture\n",
    "photutils.CircularAperture([sz,sz], r=8.533333333333326).plot(color='red', lw=2, alpha=1)\n",
    "plt.xticks([])\n",
    "plt.yticks([])"
   ]
  },
  {
   "cell_type": "code",
   "execution_count": null,
   "metadata": {},
   "outputs": [],
   "source": []
  }
 ],
 "metadata": {
  "kernelspec": {
   "display_name": "Python 3",
   "language": "python",
   "name": "python3"
  },
  "language_info": {
   "codemirror_mode": {
    "name": "ipython",
    "version": 3
   },
   "file_extension": ".py",
   "mimetype": "text/x-python",
   "name": "python",
   "nbconvert_exporter": "python",
   "pygments_lexer": "ipython3",
   "version": "3.8.5"
  }
 },
 "nbformat": 4,
 "nbformat_minor": 4
}
